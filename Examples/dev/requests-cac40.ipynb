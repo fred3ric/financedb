{
 "cells": [
  {
   "cell_type": "code",
   "execution_count": 5,
   "metadata": {},
   "outputs": [],
   "source": [
    "import pandas as pd \n",
    "import requests\n",
    "import yfinance as yf\n",
    "from valuePEA import listPEA "
   ]
  },
  {
   "cell_type": "code",
   "execution_count": 6,
   "metadata": {},
   "outputs": [
    {
     "name": "stdout",
     "output_type": "stream",
     "text": [
      "Axa SA\n",
      "{'regularMarketPrice': None, 'preMarketPrice': None, 'logo_url': ''}\n",
      "Credit Agricole SA\n",
      "{'regularMarketPrice': None, 'preMarketPrice': None, 'logo_url': ''}\n",
      "EDF\n",
      "{'zip': '10019', 'sector': 'Financial Services', 'longBusinessSummary': 'Virtus Stone Harbor Emerging Markets Income Fund is a closed-ended fixed income mutual fund launched and managed by Stone Harbor Investment Partners LP. The fund invests in the fixed income markets of emerging market countries across the globe. It primarily invests in sovereign debt obligations, corporate debt securities, structured notes, convertible securities, securities issued by supranational organizations, floating rate commercial loans, and securitized loan participations. The fund focuses on factors such as liquidity, volatility, tax implications, interest rate sensitivity, counterparty risks, economic factors, currency exchange rates, and technical market considerations to create its portfolio. It benchmarks the performance of its portfolios against the JP Morgan EMBI Global Diversified TR Index, the JPMorgan CEMBI Broad Diversified Index, and the JPMorgan GBI-EM Global Diversified Composite TR Index. Virtus Stone Harbor Emerging Markets Income Fund was formed on December 22, 2010 and is domiciled in the United States.', 'city': 'New York', 'phone': '212-548-1200', 'state': 'NY', 'country': 'United States', 'companyOfficers': [], 'website': 'https://www.shiplpcef.com/edf-objective.php?fund=edf', 'maxAge': 1, 'address1': '31 West 52nd Street', 'fax': '866-302-6524', 'industry': 'Asset Management', 'address2': '16th Floor', 'ebitdaMargins': 0, 'profitMargins': 0, 'grossMargins': 0, 'operatingCashflow': None, 'revenueGrowth': None, 'operatingMargins': 0, 'ebitda': None, 'targetLowPrice': None, 'recommendationKey': 'none', 'grossProfits': None, 'freeCashflow': None, 'targetMedianPrice': None, 'currentPrice': 3.53, 'earningsGrowth': None, 'currentRatio': None, 'returnOnAssets': None, 'numberOfAnalystOpinions': None, 'targetMeanPrice': None, 'debtToEquity': None, 'returnOnEquity': None, 'targetHighPrice': None, 'totalCash': None, 'totalDebt': None, 'totalRevenue': None, 'totalCashPerShare': None, 'financialCurrency': None, 'revenuePerShare': None, 'quickRatio': None, 'recommendationMean': None, 'exchange': 'NYQ', 'shortName': 'Stone Harbor Emerging Markets I', 'longName': 'Virtus Stone Harbor Emerging Markets Income Fund', 'exchangeTimezoneName': 'America/New_York', 'exchangeTimezoneShortName': 'EDT', 'isEsgPopulated': False, 'gmtOffSetMilliseconds': '-14400000', 'quoteType': 'EQUITY', 'symbol': 'EDF', 'messageBoardId': 'finmb_117471582', 'market': 'us_market', 'annualHoldingsTurnover': None, 'enterpriseToRevenue': None, 'beta3Year': None, 'enterpriseToEbitda': None, '52WeekChange': -0.51775956, 'morningStarRiskRating': None, 'forwardEps': None, 'revenueQuarterlyGrowth': None, 'sharesOutstanding': 17057800, 'fundInceptionDate': None, 'annualReportExpenseRatio': None, 'totalAssets': None, 'bookValue': None, 'sharesShort': 27792, 'sharesPercentSharesOut': 0.0016, 'fundFamily': None, 'lastFiscalYearEnd': None, 'heldPercentInstitutions': 0.23679, 'netIncomeToCommon': None, 'trailingEps': 0.08, 'lastDividendValue': 0.06, 'SandP52WeekChange': -0.17819631, 'priceToBook': None, 'heldPercentInsiders': 0.00452, 'nextFiscalYearEnd': None, 'yield': None, 'mostRecentQuarter': None, 'shortRatio': 0.47, 'sharesShortPreviousMonthDate': 1661904000, 'floatShares': None, 'beta': None, 'enterpriseValue': None, 'priceHint': 4, 'threeYearAverageReturn': None, 'lastSplitDate': None, 'lastSplitFactor': None, 'legalType': None, 'lastDividendDate': 1665100800, 'morningStarOverallRating': None, 'earningsQuarterlyGrowth': None, 'priceToSalesTrailing12Months': None, 'dateShortInterest': 1664496000, 'pegRatio': None, 'ytdReturn': None, 'forwardPE': None, 'lastCapGain': None, 'shortPercentOfFloat': 0.0016, 'sharesShortPriorMonth': 141520, 'impliedSharesOutstanding': 0, 'category': None, 'fiveYearAverageReturn': None, 'previousClose': 3.49, 'regularMarketOpen': 3.54, 'twoHundredDayAverage': 5.24165, 'trailingAnnualDividendYield': 0, 'payoutRatio': None, 'volume24Hr': None, 'regularMarketDayHigh': 3.56, 'navPrice': None, 'averageDailyVolume10Day': 57400, 'regularMarketPreviousClose': 3.49, 'fiftyDayAverage': 4.162, 'trailingAnnualDividendRate': 0, 'open': 3.54, 'toCurrency': None, 'averageVolume10days': 57400, 'expireDate': None, 'algorithm': None, 'dividendRate': 0.72, 'exDividendDate': 1667779200, 'circulatingSupply': None, 'startDate': None, 'regularMarketDayLow': 3.46, 'currency': 'USD', 'trailingPE': 44.125, 'regularMarketVolume': 35813, 'lastMarket': None, 'maxSupply': None, 'openInterest': None, 'marketCap': 60214032, 'volumeAllCurrencies': None, 'strikePrice': None, 'averageVolume': 62310, 'dayLow': 3.46, 'ask': 3.54, 'askSize': 1000, 'volume': 35813, 'fiftyTwoWeekHigh': 7.4, 'fromCurrency': None, 'fiveYearAvgDividendYield': 16.66, 'fiftyTwoWeekLow': 3.4, 'bid': 3.43, 'tradeable': False, 'dividendYield': 0.204, 'bidSize': 800, 'dayHigh': 3.56, 'coinMarketCapLink': None, 'regularMarketPrice': 3.53, 'preMarketPrice': None, 'logo_url': 'https://logo.clearbit.com/shiplpcef.com'}\n",
      "Engie\n",
      "{'regularMarketPrice': None, 'preMarketPrice': None, 'logo_url': ''}\n",
      "Euroapi\n",
      "{'regularMarketPrice': None, 'preMarketPrice': None, 'logo_url': ''}\n",
      "FDJ\n",
      "{'regularMarketPrice': None, 'preMarketPrice': None, 'logo_url': ''}\n",
      "Nam.R\n",
      "{'regularMarketPrice': None, 'preMarketPrice': None, 'logo_url': ''}\n",
      "TotalEnergies\n",
      "{'regularMarketPrice': None, 'preMarketPrice': None, 'logo_url': ''}\n",
      "Vinci\n",
      "{'regularMarketPrice': None, 'preMarketPrice': None, 'logo_url': ''}\n"
     ]
    }
   ],
   "source": [
    "for (k,v) in listPEA.items():\n",
    "    print(k)\n",
    "    value= yf.Ticker(k)\n",
    "    print(value.info)"
   ]
  }
 ],
 "metadata": {
  "kernelspec": {
   "display_name": "Python 3.9.6 ('.venv': venv)",
   "language": "python",
   "name": "python3"
  },
  "language_info": {
   "codemirror_mode": {
    "name": "ipython",
    "version": 3
   },
   "file_extension": ".py",
   "mimetype": "text/x-python",
   "name": "python",
   "nbconvert_exporter": "python",
   "pygments_lexer": "ipython3",
   "version": "3.9.6"
  },
  "orig_nbformat": 4,
  "vscode": {
   "interpreter": {
    "hash": "39c0a50d283f831d1ca9873750a273d5f756499bae2b791d550aafb2d55c27ed"
   }
  }
 },
 "nbformat": 4,
 "nbformat_minor": 2
}
